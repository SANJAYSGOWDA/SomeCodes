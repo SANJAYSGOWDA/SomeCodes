{
 "cells": [
  {
   "cell_type": "markdown",
   "id": "f78cb790",
   "metadata": {},
   "source": [
    "# Generate the masks from the yolo txt"
   ]
  },
  {
   "cell_type": "code",
   "execution_count": 5,
   "id": "258604c2",
   "metadata": {},
   "outputs": [
    {
     "name": "stderr",
     "output_type": "stream",
     "text": [
      "100%|██████████| 980/980 [00:15<00:00, 63.08it/s]\n"
     ]
    }
   ],
   "source": [
    "import cv2\n",
    "import numpy as np\n",
    "import os\n",
    "from tqdm import tqdm\n",
    "\n",
    "\n",
    "def generateMasks(labelPath,imagePath, masksPath):\n",
    "    image_path = imagePath\n",
    "    label_path = labelPath\n",
    "    image = cv2.imread(image_path)\n",
    "    height, width = image.shape[:2]\n",
    "\n",
    "    mask = np.zeros((height, width), dtype=np.uint8)\n",
    "\n",
    "    with open(label_path, 'r') as f:\n",
    "        for line in f:\n",
    "            parts = line.strip().split()\n",
    "            class_id = int(parts[0])\n",
    "            coords = list(map(float, parts[1:]))\n",
    "            polygon = np.array([\n",
    "                [int(x * width), int(y * height)]\n",
    "                for x, y in zip(coords[0::2], coords[1::2])\n",
    "            ], dtype=np.int32)\n",
    "            cv2.fillPoly(mask, pts=[polygon], color=255)  \n",
    "\n",
    "\n",
    "    # overlay = image.copy()\n",
    "    # overlay[mask == 255] = (0, 0, 255) \n",
    "\n",
    "\n",
    "    # cv2.imwrite(r'D:\\fromSir\\Ravi\\txttoMask\\masks\\masked_output.jpg', overlay)\n",
    "    cv2.imwrite(masksPath, mask)\n",
    "\n",
    "if __name__ == \"__main__\":\n",
    "    labelsFolderPath = r\"D:\\fromSir\\Ravi\\txttoMask\\Road_Marking_v4_Data.v1i.yolov9\\labels\"\n",
    "    imagesFolderPath = r\"D:\\fromSir\\Ravi\\txttoMask\\Road_Marking_v4_Data.v1i.yolov9\\Images\"\n",
    "    masksFolderPath = r\"D:\\fromSir\\Ravi\\txttoMask\\Road_Marking_v4_Data.v1i.yolov9\\Masks\"\n",
    "\n",
    "    os.makedirs(masksFolderPath, exist_ok=True)\n",
    "    labelsList = sorted(os.listdir(labelsFolderPath))\n",
    "    # imagesList = os.listdir(imagesFolderPath)\n",
    "    # masksList = os.listdir(masksFolderPath)\n",
    "\n",
    "    for labelFile in tqdm(labelsList):\n",
    "        imageFile = labelFile.replace('.txt', '.jpg') \n",
    "        labelPath = os.path.join(labelsFolderPath, labelFile)\n",
    "        imagePath = os.path.join(imagesFolderPath, imageFile)\n",
    "        masksPath = os.path.join(masksFolderPath, imageFile.replace('.jpg', '.png'))\n",
    "        generateMasks(labelPath,imagePath, masksPath )\n",
    "\n",
    "    # for label, image, mask in zip(labelsList, imagesList, masksList):\n",
    "    #     labelPath = fr'{labelsFolderPath}/{label}'\n",
    "    #     imagePath = fr'{imagesFolderPath}/{image}'\n",
    "    #     masksPath = fr'{masksFolderPath}/{image}'\n",
    "    #     generateMasks(labelPath,imagePath, masksPath )\n",
    "\n"
   ]
  },
  {
   "cell_type": "code",
   "execution_count": null,
   "id": "f19bb2cc",
   "metadata": {},
   "outputs": [],
   "source": [
    "if __name__ == \"__main__\":\n",
    "    labelsFolderPath = r\"D:\\fromSir\\Ravi\\txttoMask\\Road_Marking_v4_Data.v1i.yolov9\\labels\"\n",
    "    imagesFolderPath = r\"D:\\fromSir\\Ravi\\txttoMask\\Road_Marking_v4_Data.v1i.yolov9\\Images\"\n",
    "    masksFolderPath = r\"D:\\fromSir\\Ravi\\txttoMask\\Road_Marking_v4_Data.v1i.yolov9\\Masks\"\n",
    "\n",
    "    os.makedirs(masksFolderPath, exist_ok=True)\n",
    "\n",
    "    label_files = sorted(os.listdir(labelsFolderPath))\n",
    "\n",
    "    for label_file in tqdm(label_files, desc=\"Generating Masks\"):\n",
    "        image_file = label_file.replace('.txt', '.jpg')  # or .png depending on your case\n",
    "        labelPath = os.path.join(labelsFolderPath, label_file)\n",
    "        imagePath = os.path.join(imagesFolderPath, image_file)\n",
    "        masksPath = os.path.join(masksFolderPath, image_file.replace('.jpg', '.png'))  # save mask as PNG\n",
    "\n",
    "        if os.path.exists(imagePath):\n",
    "            generateMasks(labelPath, imagePath, masksPath)\n",
    "        else:\n",
    "            print(f\"Image not found for label: {label_file}\")"
   ]
  }
 ],
 "metadata": {
  "kernelspec": {
   "display_name": "Python 3",
   "language": "python",
   "name": "python3"
  },
  "language_info": {
   "codemirror_mode": {
    "name": "ipython",
    "version": 3
   },
   "file_extension": ".py",
   "mimetype": "text/x-python",
   "name": "python",
   "nbconvert_exporter": "python",
   "pygments_lexer": "ipython3",
   "version": "3.11.13"
  }
 },
 "nbformat": 4,
 "nbformat_minor": 5
}
