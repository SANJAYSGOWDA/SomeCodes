{
 "cells": [
  {
   "cell_type": "markdown",
   "id": "a9c34468",
   "metadata": {},
   "source": [
    "# Convert.tif to .jpg"
   ]
  },
  {
   "cell_type": "code",
   "execution_count": null,
   "id": "d7f3927e",
   "metadata": {},
   "outputs": [],
   "source": [
    "import os\n",
    "import sys\n",
    "import cv2\n",
    "\n",
    "\n",
    "tifFolderPath = r\"D:\\fromSir\\Ravi\\ooo\\output_masks\"\n",
    "jpgFolderPath = r\"D:\\fromSir\\Ravi\\ooo\\output_masks_jpg\"\n",
    "os.makedirs(jpgFolderPath, exist_ok=True)\n",
    "\n",
    "for filename in os.listdir(tifFolderPath):\n",
    "    # print(filename)\n",
    "    if filename.lower().endswith(('.tif', '.tiff')):\n",
    "        inputPath = f\"{tifFolderPath}\\{filename}\"\n",
    "        outputPath = f\"{jpgFolderPath}\\{filename.rsplit('.', 1)[0]}.jpg\"\n",
    "        # print(outputPath)\n",
    "        image = cv2.imread(inputPath, cv2.IMREAD_UNCHANGED)\n",
    "        cv2.imwrite(outputPath, image)\n",
    "\n",
    "\n"
   ]
  },
  {
   "cell_type": "markdown",
   "id": "7bd7b80b",
   "metadata": {},
   "source": [
    "# get the outer edge of the mask"
   ]
  },
  {
   "cell_type": "code",
   "execution_count": null,
   "id": "4f14924c",
   "metadata": {},
   "outputs": [],
   "source": [
    "import os\n",
    "import cv2\n",
    "import math\n",
    "\n",
    "\n",
    "\n",
    "inpoutjpgMaskpath = r\"D:\\fromSir\\Ravi\\ooo\\output_masks_jpg\"\n",
    "\n",
    "\n",
    "\n",
    "for filename in os.listdir(inpoutjpgMaskpath):\n",
    "    \n",
    "    if filename.lower().endswith('.jpg'):\n",
    "        fullMaskImageName = fr'{inpoutjpgMaskpath}/{filename}'\n",
    "        outputTxtPath = fr\"{inpoutjpgMaskpath}\\{filename.rsplit('.', 1)[0]}.txt\"\n",
    "        with open(outputTxtPath, 'w') as f:\n",
    "            maskImage = cv2.imread(fullMaskImageName, cv2.IMREAD_GRAYSCALE)\n",
    "            height, width = maskImage.shape\n",
    "            class_id = 0\n",
    "            contours, _ = cv2.findContours(maskImage, cv2.RETR_EXTERNAL, cv2.CHAIN_APPROX_SIMPLE)\n",
    "            for contour in contours:\n",
    "                if len(contour) < 3:\n",
    "                    continue\n",
    "                polygon = contour.squeeze()\n",
    "                norm_coords = []\n",
    "                for x, y in polygon:\n",
    "                    norm_coords.extend([x / width, y / height])\n",
    "                line = f\"{class_id} \" + \" \".join([f\"{pt:.6f}\" for pt in norm_coords]) + \"\\n\"\n",
    "                f.write(line)\n",
    "        \n",
    "\n",
    "       \n",
    "        \n",
    "\n",
    "\n",
    "\n",
    "\n"
   ]
  }
 ],
 "metadata": {
  "kernelspec": {
   "display_name": "KALMAN",
   "language": "python",
   "name": "python3"
  },
  "language_info": {
   "codemirror_mode": {
    "name": "ipython",
    "version": 3
   },
   "file_extension": ".py",
   "mimetype": "text/x-python",
   "name": "python",
   "nbconvert_exporter": "python",
   "pygments_lexer": "ipython3",
   "version": "3.11.13"
  }
 },
 "nbformat": 4,
 "nbformat_minor": 5
}
